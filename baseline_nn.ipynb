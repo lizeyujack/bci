{
 "cells": [
  {
   "cell_type": "code",
   "execution_count": 1,
   "metadata": {},
   "outputs": [],
   "source": [
    "import pandas as pd\n",
    "import numpy as np\n",
    "import scipy\n",
    "from scipy import io\n",
    "features_struct = scipy.io.loadmat('../train/Competition_train.mat')#直接读取.mat函数\n",
    "features = features_struct['X']"
   ]
  },
  {
   "cell_type": "code",
   "execution_count": 2,
   "metadata": {
    "scrolled": true
   },
   "outputs": [],
   "source": [
    "fratures_reshape = features.reshape(-1,3000)#-1表示自动计算，这里我们将三维矩阵降低至二维矩阵进行处理。原shape为（278，64，3000） 现为（278x64,3000）\n",
    "X = pd.DataFrame(fratures_reshape)"
   ]
  },
  {
   "cell_type": "code",
   "execution_count": 3,
   "metadata": {},
   "outputs": [
    {
     "data": {
      "text/plain": [
       "(17792, 3000)"
      ]
     },
     "execution_count": 3,
     "metadata": {},
     "output_type": "execute_result"
    }
   ],
   "source": [
    "X.shape"
   ]
  },
  {
   "cell_type": "markdown",
   "metadata": {},
   "source": [
    "**X为dataframe格式存储得文件拥有17792行和3000列。**\n",
    "\n",
    "```py\n",
    "X.shape\n",
    "(17792, 3000)\n",
    "```"
   ]
  },
  {
   "cell_type": "code",
   "execution_count": 4,
   "metadata": {},
   "outputs": [],
   "source": [
    "# 从Competition_train_lab.txt文件中导入y\n",
    "y_test = np.loadtxt(\"../train/Competition_train_lab.txt\",encoding=\"utf-8\")\n",
    "y = y_test.tolist()"
   ]
  },
  {
   "cell_type": "code",
   "execution_count": 5,
   "metadata": {},
   "outputs": [],
   "source": [
    "##处理label\n",
    "list = []\n",
    "i = j = 0\n",
    "for i in range(278):\n",
    "    for j in range(64):\n",
    "        list.append(y[i])\n",
    "# 将label进行扩展\n",
    "dic={\"label\" :  list}#将list转换成字典\n",
    "y=pd.DataFrame(dic)#存入数据为dataframe中\n",
    "# y_value = y.label#取数值并赋值为y_test"
   ]
  },
  {
   "cell_type": "markdown",
   "metadata": {},
   "source": [
    "**上述程序每个时序y得序列扩展为64个，原来有278个y值\n",
    "执行程序之后将会变成```64x278= 17792```个**"
   ]
  },
  {
   "cell_type": "code",
   "execution_count": 28,
   "metadata": {},
   "outputs": [
    {
     "data": {
      "text/html": [
       "<div>\n",
       "<style scoped>\n",
       "    .dataframe tbody tr th:only-of-type {\n",
       "        vertical-align: middle;\n",
       "    }\n",
       "\n",
       "    .dataframe tbody tr th {\n",
       "        vertical-align: top;\n",
       "    }\n",
       "\n",
       "    .dataframe thead th {\n",
       "        text-align: right;\n",
       "    }\n",
       "</style>\n",
       "<table border=\"1\" class=\"dataframe\">\n",
       "  <thead>\n",
       "    <tr style=\"text-align: right;\">\n",
       "      <th></th>\n",
       "      <th>0</th>\n",
       "      <th>1</th>\n",
       "      <th>2</th>\n",
       "      <th>3</th>\n",
       "      <th>4</th>\n",
       "      <th>5</th>\n",
       "      <th>6</th>\n",
       "      <th>7</th>\n",
       "      <th>8</th>\n",
       "      <th>9</th>\n",
       "      <th>...</th>\n",
       "      <th>2990</th>\n",
       "      <th>2991</th>\n",
       "      <th>2992</th>\n",
       "      <th>2993</th>\n",
       "      <th>2994</th>\n",
       "      <th>2995</th>\n",
       "      <th>2996</th>\n",
       "      <th>2997</th>\n",
       "      <th>2998</th>\n",
       "      <th>2999</th>\n",
       "    </tr>\n",
       "  </thead>\n",
       "  <tbody>\n",
       "    <tr>\n",
       "      <th>0</th>\n",
       "      <td>6.59375</td>\n",
       "      <td>6.59375</td>\n",
       "      <td>6.18750</td>\n",
       "      <td>6.03125</td>\n",
       "      <td>5.50000</td>\n",
       "      <td>5.37500</td>\n",
       "      <td>5.37500</td>\n",
       "      <td>4.93750</td>\n",
       "      <td>5.06250</td>\n",
       "      <td>5.31250</td>\n",
       "      <td>...</td>\n",
       "      <td>-3.90625</td>\n",
       "      <td>-3.84375</td>\n",
       "      <td>-3.00000</td>\n",
       "      <td>-2.93750</td>\n",
       "      <td>-2.31250</td>\n",
       "      <td>-1.43750</td>\n",
       "      <td>-1.09375</td>\n",
       "      <td>-0.46875</td>\n",
       "      <td>-0.21875</td>\n",
       "      <td>-0.06250</td>\n",
       "    </tr>\n",
       "    <tr>\n",
       "      <th>1</th>\n",
       "      <td>-6.12500</td>\n",
       "      <td>-6.06250</td>\n",
       "      <td>-5.40625</td>\n",
       "      <td>-5.25000</td>\n",
       "      <td>-4.65625</td>\n",
       "      <td>-4.34375</td>\n",
       "      <td>-4.12500</td>\n",
       "      <td>-4.09375</td>\n",
       "      <td>-4.25000</td>\n",
       "      <td>-4.50000</td>\n",
       "      <td>...</td>\n",
       "      <td>4.71875</td>\n",
       "      <td>4.43750</td>\n",
       "      <td>4.09375</td>\n",
       "      <td>4.28125</td>\n",
       "      <td>3.09375</td>\n",
       "      <td>2.43750</td>\n",
       "      <td>1.96875</td>\n",
       "      <td>1.34375</td>\n",
       "      <td>0.15625</td>\n",
       "      <td>0.65625</td>\n",
       "    </tr>\n",
       "    <tr>\n",
       "      <th>2</th>\n",
       "      <td>9.21875</td>\n",
       "      <td>9.75000</td>\n",
       "      <td>9.84375</td>\n",
       "      <td>10.40625</td>\n",
       "      <td>10.59375</td>\n",
       "      <td>10.06250</td>\n",
       "      <td>9.28125</td>\n",
       "      <td>9.28125</td>\n",
       "      <td>9.96875</td>\n",
       "      <td>10.15625</td>\n",
       "      <td>...</td>\n",
       "      <td>27.28125</td>\n",
       "      <td>26.90625</td>\n",
       "      <td>26.50000</td>\n",
       "      <td>26.06250</td>\n",
       "      <td>25.81250</td>\n",
       "      <td>25.09375</td>\n",
       "      <td>24.31250</td>\n",
       "      <td>22.81250</td>\n",
       "      <td>21.40625</td>\n",
       "      <td>21.09375</td>\n",
       "    </tr>\n",
       "    <tr>\n",
       "      <th>3</th>\n",
       "      <td>-39.34375</td>\n",
       "      <td>-39.62500</td>\n",
       "      <td>-39.46875</td>\n",
       "      <td>-39.84375</td>\n",
       "      <td>-40.56250</td>\n",
       "      <td>-40.65625</td>\n",
       "      <td>-41.15625</td>\n",
       "      <td>-41.43750</td>\n",
       "      <td>-40.46875</td>\n",
       "      <td>-39.50000</td>\n",
       "      <td>...</td>\n",
       "      <td>-20.12500</td>\n",
       "      <td>-19.81250</td>\n",
       "      <td>-19.65625</td>\n",
       "      <td>-19.56250</td>\n",
       "      <td>-19.81250</td>\n",
       "      <td>-20.00000</td>\n",
       "      <td>-20.12500</td>\n",
       "      <td>-20.75000</td>\n",
       "      <td>-21.06250</td>\n",
       "      <td>-21.18750</td>\n",
       "    </tr>\n",
       "    <tr>\n",
       "      <th>4</th>\n",
       "      <td>-33.06250</td>\n",
       "      <td>-31.93750</td>\n",
       "      <td>-30.40625</td>\n",
       "      <td>-29.65625</td>\n",
       "      <td>-29.81250</td>\n",
       "      <td>-29.96875</td>\n",
       "      <td>-31.18750</td>\n",
       "      <td>-32.46875</td>\n",
       "      <td>-32.68750</td>\n",
       "      <td>-32.15625</td>\n",
       "      <td>...</td>\n",
       "      <td>6.12500</td>\n",
       "      <td>6.37500</td>\n",
       "      <td>6.03125</td>\n",
       "      <td>6.21875</td>\n",
       "      <td>6.21875</td>\n",
       "      <td>6.03125</td>\n",
       "      <td>6.50000</td>\n",
       "      <td>6.21875</td>\n",
       "      <td>5.87500</td>\n",
       "      <td>5.87500</td>\n",
       "    </tr>\n",
       "  </tbody>\n",
       "</table>\n",
       "<p>5 rows × 3000 columns</p>\n",
       "</div>"
      ],
      "text/plain": [
       "       0         1         2         3         4         5         6     \\\n",
       "0   6.59375   6.59375   6.18750   6.03125   5.50000   5.37500   5.37500   \n",
       "1  -6.12500  -6.06250  -5.40625  -5.25000  -4.65625  -4.34375  -4.12500   \n",
       "2   9.21875   9.75000   9.84375  10.40625  10.59375  10.06250   9.28125   \n",
       "3 -39.34375 -39.62500 -39.46875 -39.84375 -40.56250 -40.65625 -41.15625   \n",
       "4 -33.06250 -31.93750 -30.40625 -29.65625 -29.81250 -29.96875 -31.18750   \n",
       "\n",
       "       7         8         9     ...      2990      2991      2992      2993  \\\n",
       "0   4.93750   5.06250   5.31250  ...  -3.90625  -3.84375  -3.00000  -2.93750   \n",
       "1  -4.09375  -4.25000  -4.50000  ...   4.71875   4.43750   4.09375   4.28125   \n",
       "2   9.28125   9.96875  10.15625  ...  27.28125  26.90625  26.50000  26.06250   \n",
       "3 -41.43750 -40.46875 -39.50000  ... -20.12500 -19.81250 -19.65625 -19.56250   \n",
       "4 -32.46875 -32.68750 -32.15625  ...   6.12500   6.37500   6.03125   6.21875   \n",
       "\n",
       "       2994      2995      2996      2997      2998      2999  \n",
       "0  -2.31250  -1.43750  -1.09375  -0.46875  -0.21875  -0.06250  \n",
       "1   3.09375   2.43750   1.96875   1.34375   0.15625   0.65625  \n",
       "2  25.81250  25.09375  24.31250  22.81250  21.40625  21.09375  \n",
       "3 -19.81250 -20.00000 -20.12500 -20.75000 -21.06250 -21.18750  \n",
       "4   6.21875   6.03125   6.50000   6.21875   5.87500   5.87500  \n",
       "\n",
       "[5 rows x 3000 columns]"
      ]
     },
     "execution_count": 28,
     "metadata": {},
     "output_type": "execute_result"
    }
   ],
   "source": [
    "X.iloc[:5,]#展示前五行"
   ]
  },
  {
   "cell_type": "code",
   "execution_count": 29,
   "metadata": {
    "scrolled": true
   },
   "outputs": [
    {
     "data": {
      "text/html": [
       "<div>\n",
       "<style scoped>\n",
       "    .dataframe tbody tr th:only-of-type {\n",
       "        vertical-align: middle;\n",
       "    }\n",
       "\n",
       "    .dataframe tbody tr th {\n",
       "        vertical-align: top;\n",
       "    }\n",
       "\n",
       "    .dataframe thead th {\n",
       "        text-align: right;\n",
       "    }\n",
       "</style>\n",
       "<table border=\"1\" class=\"dataframe\">\n",
       "  <thead>\n",
       "    <tr style=\"text-align: right;\">\n",
       "      <th></th>\n",
       "      <th>label</th>\n",
       "    </tr>\n",
       "  </thead>\n",
       "  <tbody>\n",
       "    <tr>\n",
       "      <th>0</th>\n",
       "      <td>-1.0</td>\n",
       "    </tr>\n",
       "    <tr>\n",
       "      <th>1</th>\n",
       "      <td>-1.0</td>\n",
       "    </tr>\n",
       "    <tr>\n",
       "      <th>2</th>\n",
       "      <td>-1.0</td>\n",
       "    </tr>\n",
       "    <tr>\n",
       "      <th>3</th>\n",
       "      <td>-1.0</td>\n",
       "    </tr>\n",
       "    <tr>\n",
       "      <th>4</th>\n",
       "      <td>-1.0</td>\n",
       "    </tr>\n",
       "  </tbody>\n",
       "</table>\n",
       "</div>"
      ],
      "text/plain": [
       "   label\n",
       "0   -1.0\n",
       "1   -1.0\n",
       "2   -1.0\n",
       "3   -1.0\n",
       "4   -1.0"
      ]
     },
     "execution_count": 29,
     "metadata": {},
     "output_type": "execute_result"
    }
   ],
   "source": [
    "y.iloc[:5,]"
   ]
  },
  {
   "cell_type": "code",
   "execution_count": 6,
   "metadata": {},
   "outputs": [],
   "source": [
    "X_train,X_test,y_train,y_test  = X.iloc[:-5338,:],X.iloc[-5338:,:],y.iloc[:-5338,:],y.iloc[-5338:,:]"
   ]
  },
  {
   "cell_type": "code",
   "execution_count": 12,
   "metadata": {},
   "outputs": [
    {
     "name": "stdout",
     "output_type": "stream",
     "text": [
      "Model: \"sequential_2\"\n",
      "_________________________________________________________________\n",
      "Layer (type)                 Output Shape              Param #   \n",
      "=================================================================\n",
      "dense_8 (Dense)              (None, 100)               300100    \n",
      "_________________________________________________________________\n",
      "activation_6 (Activation)    (None, 100)               0         \n",
      "_________________________________________________________________\n",
      "dropout_4 (Dropout)          (None, 100)               0         \n",
      "_________________________________________________________________\n",
      "dense_9 (Dense)              (None, 100)               10100     \n",
      "_________________________________________________________________\n",
      "dropout_5 (Dropout)          (None, 100)               0         \n",
      "_________________________________________________________________\n",
      "activation_7 (Activation)    (None, 100)               0         \n",
      "_________________________________________________________________\n",
      "dense_10 (Dense)             (None, 50)                5050      \n",
      "_________________________________________________________________\n",
      "activation_8 (Activation)    (None, 50)                0         \n",
      "_________________________________________________________________\n",
      "dense_11 (Dense)             (None, 2)                 102       \n",
      "=================================================================\n",
      "Total params: 315,352\n",
      "Trainable params: 315,352\n",
      "Non-trainable params: 0\n",
      "_________________________________________________________________\n"
     ]
    }
   ],
   "source": [
    "from keras.models import Sequential\n",
    "import keras.optimizers as opti\n",
    "from keras.layers import Dense, Activation,Dropout\n",
    "model = Sequential()\n",
    "model.add(Dense(100, input_dim=3000))\n",
    "model.add(Activation('selu'))\n",
    "model.add(Dropout(0.3))\n",
    "model.add(Dense(100))\n",
    "model.add(Dropout(0.3))\n",
    "model.add(Activation('selu'))\n",
    "model.add(Dense(50))\n",
    "model.add(Activation('elu'))\n",
    "model.add(Dense(2))\n",
    "model.summary()"
   ]
  },
  {
   "cell_type": "code",
   "execution_count": 13,
   "metadata": {},
   "outputs": [],
   "source": [
    "learning_rate=0.001\n",
    "optimizer = opti.RMSprop(lr=learning_rate)\n",
    "model.compile(optimizer=optimizer,loss='mse')"
   ]
  },
  {
   "cell_type": "code",
   "execution_count": 16,
   "metadata": {},
   "outputs": [
    {
     "name": "stdout",
     "output_type": "stream",
     "text": [
      "Epoch 1/20\n",
      "1246/1246 [==============================] - 4s 3ms/step - loss: 0.5360\n",
      "Epoch 2/20\n",
      "1246/1246 [==============================] - 4s 3ms/step - loss: 0.5126\n",
      "Epoch 3/20\n",
      "1246/1246 [==============================] - 5s 4ms/step - loss: 0.4992\n",
      "Epoch 4/20\n",
      "1246/1246 [==============================] - 5s 4ms/step - loss: 0.4984\n",
      "Epoch 5/20\n",
      "1246/1246 [==============================] - 5s 4ms/step - loss: 0.4996\n",
      "Epoch 6/20\n",
      "1246/1246 [==============================] - 5s 4ms/step - loss: 0.4888\n",
      "Epoch 7/20\n",
      "1246/1246 [==============================] - 5s 4ms/step - loss: 0.4799\n",
      "Epoch 8/20\n",
      "1246/1246 [==============================] - 6s 4ms/step - loss: 0.4629\n",
      "Epoch 9/20\n",
      "1246/1246 [==============================] - 5s 4ms/step - loss: 0.4676\n",
      "Epoch 10/20\n",
      "1246/1246 [==============================] - 5s 4ms/step - loss: 0.4445\n",
      "Epoch 11/20\n",
      "1246/1246 [==============================] - 5s 4ms/step - loss: 0.4466\n",
      "Epoch 12/20\n",
      "1246/1246 [==============================] - 5s 4ms/step - loss: 0.4495\n",
      "Epoch 13/20\n",
      "1246/1246 [==============================] - 5s 4ms/step - loss: 0.4537\n",
      "Epoch 14/20\n",
      "1246/1246 [==============================] - 5s 4ms/step - loss: 0.4171\n",
      "Epoch 15/20\n",
      "1246/1246 [==============================] - 5s 4ms/step - loss: 0.4178\n",
      "Epoch 16/20\n",
      "1246/1246 [==============================] - 5s 4ms/step - loss: 0.4107\n",
      "Epoch 17/20\n",
      "1246/1246 [==============================] - 5s 4ms/step - loss: 0.4222\n",
      "Epoch 18/20\n",
      "1246/1246 [==============================] - 5s 4ms/step - loss: 0.4116\n",
      "Epoch 19/20\n",
      "1246/1246 [==============================] - 5s 4ms/step - loss: 0.4024\n",
      "Epoch 20/20\n",
      "1246/1246 [==============================] - 5s 4ms/step - loss: 0.3989\n"
     ]
    },
    {
     "data": {
      "text/plain": [
       "<tensorflow.python.keras.callbacks.History at 0x1db73cc9408>"
      ]
     },
     "execution_count": 16,
     "metadata": {},
     "output_type": "execute_result"
    }
   ],
   "source": [
    "data=X_train\n",
    "target = y_train\n",
    "model.fit(data, target, epochs=20, batch_size=10,verbose=1)"
   ]
  },
  {
   "cell_type": "code",
   "execution_count": 41,
   "metadata": {},
   "outputs": [
    {
     "name": "stdout",
     "output_type": "stream",
     "text": [
      "RMSE for Deep Network: 0.6577597856521606\n"
     ]
    }
   ],
   "source": [
    "a=model.predict(X_test)\n",
    "print(\"RMSE for Deep Network:\",np.sqrt(np.mean((y_test.iloc[0,0]-a[0,0])**2)))"
   ]
  },
  {
   "cell_type": "code",
   "execution_count": null,
   "metadata": {},
   "outputs": [],
   "source": []
  }
 ],
 "metadata": {
  "kernelspec": {
   "display_name": "Python 3",
   "language": "python",
   "name": "python3"
  },
  "language_info": {
   "codemirror_mode": {
    "name": "ipython",
    "version": 3
   },
   "file_extension": ".py",
   "mimetype": "text/x-python",
   "name": "python",
   "nbconvert_exporter": "python",
   "pygments_lexer": "ipython3",
   "version": "3.7.4"
  }
 },
 "nbformat": 4,
 "nbformat_minor": 4
}
