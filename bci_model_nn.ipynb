{
  "nbformat": 4,
  "nbformat_minor": 0,
  "metadata": {
    "accelerator": "GPU",
    "colab": {
      "name": "bci_model_nn.ipynb",
      "provenance": [],
      "mount_file_id": "1hHl4U8ewatcCY-cz0LK1TjaYjp_2pxmN",
      "authorship_tag": "ABX9TyNZnpNFAu6QfntTa2jcgyBz",
      "include_colab_link": true
    },
    "kernelspec": {
      "display_name": "Python 3",
      "name": "python3"
    },
    "language_info": {
      "name": "python"
    }
  },
  "cells": [
    {
      "cell_type": "markdown",
      "metadata": {
        "id": "view-in-github",
        "colab_type": "text"
      },
      "source": [
        "<a href=\"https://colab.research.google.com/github/lizeyujack/bci/blob/main/bci_model_nn.ipynb\" target=\"_parent\"><img src=\"https://colab.research.google.com/assets/colab-badge.svg\" alt=\"Open In Colab\"/></a>"
      ]
    },
    {
      "cell_type": "code",
      "metadata": {
        "colab": {
          "base_uri": "https://localhost:8080/"
        },
        "id": "AVnDmdlpyxO0",
        "outputId": "ffc48e29-13db-4ac1-b56d-1a2bcbedb581"
      },
      "source": [
        "from google.colab import drive\n",
        "drive.mount('/content/drive')"
      ],
      "execution_count": 1,
      "outputs": [
        {
          "output_type": "stream",
          "text": [
            "Drive already mounted at /content/drive; to attempt to forcibly remount, call drive.mount(\"/content/drive\", force_remount=True).\n"
          ],
          "name": "stdout"
        }
      ]
    },
    {
      "cell_type": "code",
      "metadata": {
        "id": "7pk7Tp3PyzpX"
      },
      "source": [
        "from sklearn.model_selection import train_test_split\n",
        "from keras.utils import to_categorical\n",
        "import pandas as pd\n",
        "import numpy as np\n",
        "df = pd.read_csv('/content/drive/MyDrive/train_v2.3.csv')\n",
        "x = df.iloc[:,:-1]\n",
        "y = df.iloc[:,-1]\n",
        "# y1 = to_categorical(y)\n",
        "# x_train,x_test,y_train,y_test=train_test_split(x,y,test_size=0.3,random_state=1)"
      ],
      "execution_count": 2,
      "outputs": []
    },
    {
      "cell_type": "code",
      "metadata": {
        "id": "lPW0dqMsoudm"
      },
      "source": [
        "def encode_target(y):\n",
        "    y_encoded = np.zeros( (y.shape[0], 2) )    \n",
        "    y_neg_index = y == -1\n",
        "    y_pos_index = y == 1    \n",
        "    y_encoded[y_neg_index,0] = 1\n",
        "    y_encoded[y_pos_index,1] = 1\n",
        "    return y_encoded"
      ],
      "execution_count": 3,
      "outputs": []
    },
    {
      "cell_type": "code",
      "metadata": {
        "id": "_8SoVPRKow4i"
      },
      "source": [
        "y1 = encode_target(y)\n",
        "x_train,x_test,y_train,y_test=train_test_split(x,y1,test_size=0.3,random_state=1)"
      ],
      "execution_count": 4,
      "outputs": []
    },
    {
      "cell_type": "code",
      "metadata": {
        "colab": {
          "base_uri": "https://localhost:8080/"
        },
        "id": "To3rfhi44sAw",
        "outputId": "e148fdd0-2aa9-458a-a7d5-ab8c975da36e"
      },
      "source": [
        "# first neural network with keras tutorial\n",
        "from numpy import loadtxt\n",
        "from keras.models import Sequential\n",
        "from keras.layers import Dense,Dropout\n",
        "import keras\n",
        "from keras.regularizers import l2\n",
        "import matplotlib.pyplot as plt\n",
        "\n",
        "model = Sequential()\n",
        "model.add(Dense(2, input_dim=2998, activation='relu',activity_regularizer=l2(0.001),name='relu_with_regularizer'))\n",
        "# model.add(Dense(128, input_dim=2998, activation='relu',name='relu_with_regularizer'))\n",
        "model.add(Dense(256,activation ='relu',name='relu_512'))\n",
        "model.add(Dropout(0.1,name='dropout1'))\n",
        "model.add(Dense(512, activation='relu',name='relu_256'))\n",
        "model.add(Dropout(0.3,name='dropout2'))\n",
        "model.add(Dense(128, activation='relu',name='relu_128'))\n",
        "model.add(Dropout(0.2,name='dropout3'))\n",
        "model.add(Dense(2,activation ='relu',name='tanh_64'))\n",
        "model.add(Dense(2, activation='softmax',name='softmax'))\n",
        "model.summary()\n",
        "optimiser = keras.optimizers.RMSprop(learning_rate=0.00001)\n",
        "# compile the keras model\n",
        "model.compile(loss='categorical_crossentropy', optimizer=optimiser,metrics=['accuracy'])#, metrics=['accuracy']\n",
        "# fit the keras model on the dataset\n",
        "history = model.fit(x_train,y_train,validation_data=(x_test,y_test), epochs=50, batch_size=16)\n",
        "# plot_history(history)"
      ],
      "execution_count": 5,
      "outputs": [
        {
          "output_type": "stream",
          "text": [
            "Model: \"sequential\"\n",
            "_________________________________________________________________\n",
            "Layer (type)                 Output Shape              Param #   \n",
            "=================================================================\n",
            "relu_with_regularizer (Dense (None, 2)                 5998      \n",
            "_________________________________________________________________\n",
            "relu_512 (Dense)             (None, 256)               768       \n",
            "_________________________________________________________________\n",
            "dropout1 (Dropout)           (None, 256)               0         \n",
            "_________________________________________________________________\n",
            "relu_256 (Dense)             (None, 512)               131584    \n",
            "_________________________________________________________________\n",
            "dropout2 (Dropout)           (None, 512)               0         \n",
            "_________________________________________________________________\n",
            "relu_128 (Dense)             (None, 128)               65664     \n",
            "_________________________________________________________________\n",
            "dropout3 (Dropout)           (None, 128)               0         \n",
            "_________________________________________________________________\n",
            "tanh_64 (Dense)              (None, 2)                 258       \n",
            "_________________________________________________________________\n",
            "softmax (Dense)              (None, 2)                 6         \n",
            "=================================================================\n",
            "Total params: 204,278\n",
            "Trainable params: 204,278\n",
            "Non-trainable params: 0\n",
            "_________________________________________________________________\n",
            "Epoch 1/50\n",
            "779/779 [==============================] - 4s 5ms/step - loss: 0.6964 - accuracy: 0.5008 - val_loss: 0.6961 - val_accuracy: 0.5051\n",
            "Epoch 2/50\n",
            "779/779 [==============================] - 3s 4ms/step - loss: 0.6960 - accuracy: 0.4984 - val_loss: 0.6959 - val_accuracy: 0.4942\n",
            "Epoch 3/50\n",
            "779/779 [==============================] - 3s 4ms/step - loss: 0.6956 - accuracy: 0.5114 - val_loss: 0.6957 - val_accuracy: 0.5009\n",
            "Epoch 4/50\n",
            "779/779 [==============================] - 3s 4ms/step - loss: 0.6956 - accuracy: 0.5038 - val_loss: 0.6956 - val_accuracy: 0.4908\n",
            "Epoch 5/50\n",
            "779/779 [==============================] - 3s 4ms/step - loss: 0.6956 - accuracy: 0.5031 - val_loss: 0.6955 - val_accuracy: 0.4955\n",
            "Epoch 6/50\n",
            "779/779 [==============================] - 3s 4ms/step - loss: 0.6951 - accuracy: 0.5122 - val_loss: 0.6954 - val_accuracy: 0.4968\n",
            "Epoch 7/50\n",
            "779/779 [==============================] - 3s 4ms/step - loss: 0.6951 - accuracy: 0.5095 - val_loss: 0.6951 - val_accuracy: 0.5054\n",
            "Epoch 8/50\n",
            "779/779 [==============================] - 3s 4ms/step - loss: 0.6947 - accuracy: 0.5097 - val_loss: 0.6946 - val_accuracy: 0.5062\n",
            "Epoch 9/50\n",
            "779/779 [==============================] - 3s 4ms/step - loss: 0.6944 - accuracy: 0.5081 - val_loss: 0.6928 - val_accuracy: 0.5041\n",
            "Epoch 10/50\n",
            "779/779 [==============================] - 3s 4ms/step - loss: 0.6926 - accuracy: 0.5121 - val_loss: 0.6895 - val_accuracy: 0.5461\n",
            "Epoch 11/50\n",
            "779/779 [==============================] - 3s 4ms/step - loss: 0.6880 - accuracy: 0.5367 - val_loss: 0.6851 - val_accuracy: 0.5622\n",
            "Epoch 12/50\n",
            "779/779 [==============================] - 3s 4ms/step - loss: 0.6825 - accuracy: 0.5632 - val_loss: 0.6796 - val_accuracy: 0.5768\n",
            "Epoch 13/50\n",
            "779/779 [==============================] - 3s 4ms/step - loss: 0.6763 - accuracy: 0.5865 - val_loss: 0.6730 - val_accuracy: 0.5985\n",
            "Epoch 14/50\n",
            "779/779 [==============================] - 3s 4ms/step - loss: 0.6672 - accuracy: 0.6021 - val_loss: 0.6662 - val_accuracy: 0.6109\n",
            "Epoch 15/50\n",
            "779/779 [==============================] - 3s 4ms/step - loss: 0.6561 - accuracy: 0.6277 - val_loss: 0.6579 - val_accuracy: 0.6309\n",
            "Epoch 16/50\n",
            "779/779 [==============================] - 3s 4ms/step - loss: 0.6467 - accuracy: 0.6499 - val_loss: 0.6504 - val_accuracy: 0.6456\n",
            "Epoch 17/50\n",
            "779/779 [==============================] - 3s 4ms/step - loss: 0.6364 - accuracy: 0.6686 - val_loss: 0.6430 - val_accuracy: 0.6566\n",
            "Epoch 18/50\n",
            "779/779 [==============================] - 3s 4ms/step - loss: 0.6219 - accuracy: 0.6839 - val_loss: 0.6348 - val_accuracy: 0.6692\n",
            "Epoch 19/50\n",
            "779/779 [==============================] - 3s 4ms/step - loss: 0.6132 - accuracy: 0.7015 - val_loss: 0.6276 - val_accuracy: 0.6834\n",
            "Epoch 20/50\n",
            "779/779 [==============================] - 3s 4ms/step - loss: 0.5956 - accuracy: 0.7157 - val_loss: 0.6198 - val_accuracy: 0.6965\n",
            "Epoch 21/50\n",
            "779/779 [==============================] - 3s 4ms/step - loss: 0.5868 - accuracy: 0.7355 - val_loss: 0.6130 - val_accuracy: 0.7098\n",
            "Epoch 22/50\n",
            "779/779 [==============================] - 3s 4ms/step - loss: 0.5808 - accuracy: 0.7484 - val_loss: 0.6070 - val_accuracy: 0.7226\n",
            "Epoch 23/50\n",
            "779/779 [==============================] - 3s 4ms/step - loss: 0.5658 - accuracy: 0.7636 - val_loss: 0.6014 - val_accuracy: 0.7332\n",
            "Epoch 24/50\n",
            "779/779 [==============================] - 3s 4ms/step - loss: 0.5628 - accuracy: 0.7631 - val_loss: 0.5958 - val_accuracy: 0.7415\n",
            "Epoch 25/50\n",
            "779/779 [==============================] - 3s 4ms/step - loss: 0.5486 - accuracy: 0.7816 - val_loss: 0.5896 - val_accuracy: 0.7512\n",
            "Epoch 26/50\n",
            "779/779 [==============================] - 3s 4ms/step - loss: 0.5378 - accuracy: 0.7862 - val_loss: 0.5854 - val_accuracy: 0.7587\n",
            "Epoch 27/50\n",
            "779/779 [==============================] - 3s 4ms/step - loss: 0.5352 - accuracy: 0.7966 - val_loss: 0.5812 - val_accuracy: 0.7668\n",
            "Epoch 28/50\n",
            "779/779 [==============================] - 3s 4ms/step - loss: 0.5181 - accuracy: 0.8069 - val_loss: 0.5765 - val_accuracy: 0.7737\n",
            "Epoch 29/50\n",
            "779/779 [==============================] - 3s 4ms/step - loss: 0.5136 - accuracy: 0.8193 - val_loss: 0.5717 - val_accuracy: 0.7795\n",
            "Epoch 30/50\n",
            "779/779 [==============================] - 3s 4ms/step - loss: 0.5126 - accuracy: 0.8204 - val_loss: 0.5711 - val_accuracy: 0.7846\n",
            "Epoch 31/50\n",
            "779/779 [==============================] - 3s 4ms/step - loss: 0.4941 - accuracy: 0.8268 - val_loss: 0.5645 - val_accuracy: 0.7894\n",
            "Epoch 32/50\n",
            "779/779 [==============================] - 3s 4ms/step - loss: 0.4851 - accuracy: 0.8304 - val_loss: 0.5623 - val_accuracy: 0.7945\n",
            "Epoch 33/50\n",
            "779/779 [==============================] - 3s 4ms/step - loss: 0.4844 - accuracy: 0.8295 - val_loss: 0.5610 - val_accuracy: 0.8007\n",
            "Epoch 34/50\n",
            "779/779 [==============================] - 3s 4ms/step - loss: 0.4747 - accuracy: 0.8455 - val_loss: 0.5552 - val_accuracy: 0.8050\n",
            "Epoch 35/50\n",
            "779/779 [==============================] - 3s 4ms/step - loss: 0.4666 - accuracy: 0.8524 - val_loss: 0.5525 - val_accuracy: 0.8084\n",
            "Epoch 36/50\n",
            "779/779 [==============================] - 3s 4ms/step - loss: 0.4591 - accuracy: 0.8500 - val_loss: 0.5507 - val_accuracy: 0.8121\n",
            "Epoch 37/50\n",
            "779/779 [==============================] - 3s 4ms/step - loss: 0.4542 - accuracy: 0.8570 - val_loss: 0.5509 - val_accuracy: 0.8155\n",
            "Epoch 38/50\n",
            "779/779 [==============================] - 3s 4ms/step - loss: 0.4406 - accuracy: 0.8601 - val_loss: 0.5441 - val_accuracy: 0.8209\n",
            "Epoch 39/50\n",
            "779/779 [==============================] - 3s 4ms/step - loss: 0.4406 - accuracy: 0.8642 - val_loss: 0.5460 - val_accuracy: 0.8224\n",
            "Epoch 40/50\n",
            "779/779 [==============================] - 3s 4ms/step - loss: 0.4353 - accuracy: 0.8642 - val_loss: 0.5428 - val_accuracy: 0.8263\n",
            "Epoch 41/50\n",
            "779/779 [==============================] - 3s 4ms/step - loss: 0.4281 - accuracy: 0.8698 - val_loss: 0.5427 - val_accuracy: 0.8288\n",
            "Epoch 42/50\n",
            "779/779 [==============================] - 3s 4ms/step - loss: 0.4199 - accuracy: 0.8764 - val_loss: 0.5429 - val_accuracy: 0.8293\n",
            "Epoch 43/50\n",
            "779/779 [==============================] - 3s 4ms/step - loss: 0.4135 - accuracy: 0.8813 - val_loss: 0.5402 - val_accuracy: 0.8310\n",
            "Epoch 44/50\n",
            "779/779 [==============================] - 3s 4ms/step - loss: 0.4099 - accuracy: 0.8806 - val_loss: 0.5416 - val_accuracy: 0.8327\n",
            "Epoch 45/50\n",
            "779/779 [==============================] - 3s 4ms/step - loss: 0.4029 - accuracy: 0.8839 - val_loss: 0.5431 - val_accuracy: 0.8344\n",
            "Epoch 46/50\n",
            "779/779 [==============================] - 3s 4ms/step - loss: 0.4017 - accuracy: 0.8835 - val_loss: 0.5498 - val_accuracy: 0.8368\n",
            "Epoch 47/50\n",
            "779/779 [==============================] - 3s 4ms/step - loss: 0.3936 - accuracy: 0.8858 - val_loss: 0.5426 - val_accuracy: 0.8374\n",
            "Epoch 48/50\n",
            "779/779 [==============================] - 3s 4ms/step - loss: 0.3898 - accuracy: 0.8914 - val_loss: 0.5431 - val_accuracy: 0.8378\n",
            "Epoch 49/50\n",
            "779/779 [==============================] - 3s 4ms/step - loss: 0.3829 - accuracy: 0.8991 - val_loss: 0.5507 - val_accuracy: 0.8389\n",
            "Epoch 50/50\n",
            "779/779 [==============================] - 3s 4ms/step - loss: 0.3764 - accuracy: 0.8936 - val_loss: 0.5512 - val_accuracy: 0.8419\n"
          ],
          "name": "stdout"
        }
      ]
    },
    {
      "cell_type": "code",
      "metadata": {
        "id": "WcPYZ9AODYsc",
        "colab": {
          "base_uri": "https://localhost:8080/",
          "height": 336
        },
        "outputId": "d6bdb029-d5c6-4ac4-dc5f-1e2aa34a4ccd"
      },
      "source": [
        "def plot_history(history):\n",
        "    acc = history.history['accuracy']\n",
        "    val_acc = history.history['val_accuracy']\n",
        "    loss = history.history['loss']\n",
        "    val_loss = history.history['val_loss']\n",
        "    x = range(1, len(loss) + 1)\n",
        "    plt.figure(figsize=(12, 5))\n",
        "    plt.subplot(1, 2, 1)\n",
        "    plt.plot(x, acc, 'b', label='Training accuracy')\n",
        "    plt.plot(x, val_acc, 'r', label='Validation accuracy')\n",
        "    plt.title('Training and validation accuracy')\n",
        "    plt.legend()\n",
        "    plt.subplot(1, 2, 2)\n",
        "    plt.plot(x, loss, 'b', label='Training loss')\n",
        "    plt.plot(x, val_loss, 'r', label='Validation loss')\n",
        "    plt.title('Training and validation loss')\n",
        "    plt.legend()\n",
        "    # plt.show()\n",
        "plot_history(history)"
      ],
      "execution_count": 6,
      "outputs": [
        {
          "output_type": "display_data",
          "data": {
            "image/png": "[encoded data removed]",
            "text/plain": [
              "<Figure size 864x360 with 2 Axes>"
            ]
          },
          "metadata": {
            "tags": [],
            "needs_background": "light"
          }
        }
      ]
    },
    {
      "cell_type": "code",
      "metadata": {
        "colab": {
          "base_uri": "https://localhost:8080/"
        },
        "id": "tv0TJsQMpcdm",
        "outputId": "b64afbd5-a425-4925-e871-23b50e7bac56"
      },
      "source": [
        "from sklearn.metrics import confusion_matrix\n",
        "# y_pred = model.predict_classes(x_test)\n",
        "y_pred = np.argmax(model.predict(x_test), axis=-1)\n",
        "mt = confusion_matrix(y_test[:,0], y_pred)\n",
        "Predicision = mt[1,1]/(mt[1,1],mt[0,1])\n",
        "Recall = mt[1,1]/(mt[1,1],mt[1,0])\n",
        "F1_score = 2*Predicision*Recall/(Predicision+Recall)\n",
        "print(F1_score)\n",
        "print(mt)"
      ],
      "execution_count": 8,
      "outputs": [
        {
          "output_type": "stream",
          "text": [
            "[1.         0.22340899]\n",
            "[[ 342 2334]\n",
            " [2160  502]]\n"
          ],
          "name": "stdout"
        }
      ]
    },
    {
      "cell_type": "code",
      "metadata": {
        "id": "QjhQ2qQtqn8U"
      },
      "source": [
        "model.save('/content/drive/MyDrive/train1.h5')"
      ],
      "execution_count": 9,
      "outputs": []
    },
    {
      "cell_type": "code",
      "metadata": {
        "id": "7mRl64XIxJmi"
      },
      "source": [
        ""
      ],
      "execution_count": null,
      "outputs": []
    }
  ]
}